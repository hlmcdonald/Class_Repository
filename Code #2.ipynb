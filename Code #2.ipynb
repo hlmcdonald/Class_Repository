{
 "cells": [
  {
   "cell_type": "code",
   "execution_count": 2,
   "id": "1835199a",
   "metadata": {},
   "outputs": [
    {
     "name": "stdout",
     "output_type": "stream",
     "text": [
      "Enter the patient's temperature (in degrees farenheit): 100.4\n"
     ]
    }
   ],
   "source": [
    "# input temperature\n",
    "temperature = input(\"Enter the patient's temperature (in degrees farenheit): \")"
   ]
  },
  {
   "cell_type": "code",
   "execution_count": 3,
   "id": "4d169909",
   "metadata": {},
   "outputs": [
    {
     "name": "stdout",
     "output_type": "stream",
     "text": [
      "the patient has a high temperature.\n"
     ]
    }
   ],
   "source": [
    "# check temperature\n",
    "if temperature.replace(\".\", \"\", 1).isdigit():\n",
    "    temperature_input = float(temperature)\n",
    "    if temperature_input >= 99.5:\n",
    "        print(\"the patient has a high temperature.\")\n",
    "    else:\n",
    "        print(\"the patient has a normal temperature.\")\n",
    "else:\n",
    "    print(\"Error: Please enter a valid temperature (numerical value).\")"
   ]
  },
  {
   "cell_type": "code",
   "execution_count": null,
   "id": "3ff81b0c",
   "metadata": {},
   "outputs": [],
   "source": []
  }
 ],
 "metadata": {
  "kernelspec": {
   "display_name": "Python 3 (ipykernel)",
   "language": "python",
   "name": "python3"
  },
  "language_info": {
   "codemirror_mode": {
    "name": "ipython",
    "version": 3
   },
   "file_extension": ".py",
   "mimetype": "text/x-python",
   "name": "python",
   "nbconvert_exporter": "python",
   "pygments_lexer": "ipython3",
   "version": "3.11.4"
  }
 },
 "nbformat": 4,
 "nbformat_minor": 5
}
