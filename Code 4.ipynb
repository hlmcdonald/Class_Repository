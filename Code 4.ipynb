{
 "cells": [
  {
   "cell_type": "code",
   "execution_count": 1,
   "id": "d83ff13f",
   "metadata": {},
   "outputs": [],
   "source": [
    "#Celsius to farenheight\n",
    "def celsius_to_farenheight(celsius):\n",
    "    return (celsius * 9/5) + 32\n",
    "#f to c\n",
    "def farenheight_to_celsius(farenheight):\n",
    "    return (farenheight - 32) * 5/9"
   ]
  },
  {
   "cell_type": "code",
   "execution_count": 5,
   "id": "7eb7edef",
   "metadata": {},
   "outputs": [
    {
     "name": "stdout",
     "output_type": "stream",
     "text": [
      "choose the coversion direction.\n",
      "put c for celsius to farenheight or f for farenheight\n",
      "Enter your choice: c\n",
      "enter the temp: 99\n",
      "99.0 degrees celsius is 210.2 degrees farenheight\n"
     ]
    }
   ],
   "source": [
    "#setting dictionary to mapping the user input to the function\n",
    "conversion_features = {\n",
    "    'c': celsius_to_farenheight,\n",
    "    'f': farenheight_to_celsius\n",
    "}\n",
    "\n",
    "print(\"choose the coversion direction.\")\n",
    "print(\"put c for celsius to farenheight or f for farenheight\")\n",
    "\n",
    "choice = input(\"Enter your choice: \")\n",
    "\n",
    "if choice in conversion_features:\n",
    "    temperature = float(input(\"enter the temp: \"))\n",
    "    \n",
    "    #conversion\n",
    "    converted_temperature = conversion_features[choice](temperature)\n",
    "    \n",
    "    print(f\"{temperature} degrees {'celsius' if choice == 'c' else 'farenheight'} is {converted_temperature} degrees {'farenheight' if choice == 'c' else 'celsius'}\")\n",
    "    \n",
    "else:\n",
    "    print(\"this was not a valid input. Please enter a c or an f.\")"
   ]
  },
  {
   "cell_type": "code",
   "execution_count": null,
   "id": "f2c0a286",
   "metadata": {},
   "outputs": [],
   "source": []
  }
 ],
 "metadata": {
  "kernelspec": {
   "display_name": "Python 3 (ipykernel)",
   "language": "python",
   "name": "python3"
  },
  "language_info": {
   "codemirror_mode": {
    "name": "ipython",
    "version": 3
   },
   "file_extension": ".py",
   "mimetype": "text/x-python",
   "name": "python",
   "nbconvert_exporter": "python",
   "pygments_lexer": "ipython3",
   "version": "3.11.4"
  }
 },
 "nbformat": 4,
 "nbformat_minor": 5
}
