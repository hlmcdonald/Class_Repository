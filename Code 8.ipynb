{
 "cells": [
  {
   "cell_type": "code",
   "execution_count": 2,
   "id": "a0591ded",
   "metadata": {},
   "outputs": [],
   "source": [
    "# Setup\n",
    "data_list = [('apple', 5), ('banana', 2), ('orange', 8), ('grapes', 3), ('pineapple', 1)]\n",
    "\n",
    "def convert_to_dictionary(data_list):\n",
    "    result_dict = {}\n",
    "    for item in data_list:\n",
    "        x, y = item\n",
    "        result_dict[x] = y\n",
    "    return result_dict"
   ]
  },
  {
   "cell_type": "code",
   "execution_count": 3,
   "id": "c7d65ad0",
   "metadata": {},
   "outputs": [
    {
     "name": "stdout",
     "output_type": "stream",
     "text": [
      "Orignial Data Type :  [('apple', 5), ('banana', 2), ('orange', 8), ('grapes', 3), ('pineapple', 1)]\n",
      "Converted Data Type:  {'apple': 5, 'banana': 2, 'orange': 8, 'grapes': 3, 'pineapple': 1}\n",
      "5\n"
     ]
    }
   ],
   "source": [
    "# Conversion\n",
    "convert_dict = convert_to_dictionary(data_list)\n",
    "\n",
    "print(\"Orignial Data Type : \", data_list)\n",
    "print(\"Converted Data Type: \", convert_dict)\n",
    "\n",
    "print(convert_dict['apple'])"
   ]
  },
  {
   "cell_type": "code",
   "execution_count": null,
   "id": "466f37ae",
   "metadata": {},
   "outputs": [],
   "source": []
  }
 ],
 "metadata": {
  "kernelspec": {
   "display_name": "Python 3 (ipykernel)",
   "language": "python",
   "name": "python3"
  },
  "language_info": {
   "codemirror_mode": {
    "name": "ipython",
    "version": 3
   },
   "file_extension": ".py",
   "mimetype": "text/x-python",
   "name": "python",
   "nbconvert_exporter": "python",
   "pygments_lexer": "ipython3",
   "version": "3.11.4"
  }
 },
 "nbformat": 4,
 "nbformat_minor": 5
}
