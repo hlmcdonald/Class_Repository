{
 "cells": [
  {
   "cell_type": "code",
   "execution_count": 1,
   "id": "f33d78b0",
   "metadata": {},
   "outputs": [
    {
     "name": "stdout",
     "output_type": "stream",
     "text": [
      "Enter your name: Heather\n",
      "Hello, Heather! Nice to meet you.\n"
     ]
    }
   ],
   "source": [
    "#Problem 1\n",
    "name = input(\"Enter your name: \")\n",
    "print(\"Hello, \" + name + \"! Nice to meet you.\")"
   ]
  },
  {
   "cell_type": "code",
   "execution_count": 3,
   "id": "e01c1fbd",
   "metadata": {},
   "outputs": [
    {
     "name": "stdout",
     "output_type": "stream",
     "text": [
      "Enter a word: exhausted\n",
      "Reversed word: detsuahxe.\n"
     ]
    }
   ],
   "source": [
    "#Problem 2\n",
    "word = input(\"Enter a word: \")\n",
    "reversed_word = word[: :-1]\n",
    "print(f\"Reversed word: {reversed_word}.\")"
   ]
  },
  {
   "cell_type": "code",
   "execution_count": 4,
   "id": "6e8ef00b",
   "metadata": {},
   "outputs": [
    {
     "name": "stdout",
     "output_type": "stream",
     "text": [
      "Enter a sentence: This is a sample sentence.\n",
      "This sentence has 26 characters.\n"
     ]
    }
   ],
   "source": [
    "#Problem 3\n",
    "sentence = input(\"Enter a sentence: \")\n",
    "char_count = len(sentence)\n",
    "print(f\"This sentence has {char_count} characters.\")"
   ]
  },
  {
   "cell_type": "code",
   "execution_count": 5,
   "id": "78799b3e",
   "metadata": {},
   "outputs": [
    {
     "name": "stdout",
     "output_type": "stream",
     "text": [
      "Enter a word or a sentence: This is a sample sentence.\n",
      "Number of vowels is 8.\n"
     ]
    }
   ],
   "source": [
    "#Problem 4\n",
    "string = input(\"Enter a word or a sentence: \")\n",
    "string_lower = string.lower()\n",
    "\n",
    "a_count = string_lower.count('a')\n",
    "e_count = string_lower.count('e')\n",
    "i_count = string_lower.count('i')\n",
    "o_count = string_lower.count('o')\n",
    "u_count = string_lower.count('u')\n",
    "\n",
    "vowel_count = a_count + e_count + i_count + u_count\n",
    "print(f\"Number of vowels is {vowel_count}.\")"
   ]
  },
  {
   "cell_type": "code",
   "execution_count": 7,
   "id": "5d9f166b",
   "metadata": {},
   "outputs": [
    {
     "name": "stdout",
     "output_type": "stream",
     "text": [
      "Enter a word: racecar\n",
      "This word is a palindrome.\n"
     ]
    }
   ],
   "source": [
    "#Problem 5\n",
    "word_to_check = input(\"Enter a word: \")\n",
    "word_palindrome = word_to_check.upper()\n",
    "\n",
    "if word_palindrome == word_palindrome[: :-1]:\n",
    "    print(f\"This word is a palindrome.\")\n",
    "else:\n",
    "    print(f\"This word is not a palindrome.\")"
   ]
  },
  {
   "cell_type": "code",
   "execution_count": 8,
   "id": "58cf4c46",
   "metadata": {},
   "outputs": [
    {
     "name": "stdout",
     "output_type": "stream",
     "text": [
      "Enter your secret message: I'm tired\n",
      "Encrypted secret message: I'M_TIRED.\n"
     ]
    }
   ],
   "source": [
    "#Problem 6\n",
    "secret_message = input(\"Enter your secret message: \")\n",
    "encrypted = secret_message.upper() .replace(\" \", \"_\")\n",
    "print(f\"Encrypted secret message: {encrypted}.\")"
   ]
  },
  {
   "cell_type": "code",
   "execution_count": null,
   "id": "66f6a0c4",
   "metadata": {},
   "outputs": [],
   "source": []
  },
  {
   "cell_type": "code",
   "execution_count": null,
   "id": "184fc58a",
   "metadata": {},
   "outputs": [],
   "source": []
  }
 ],
 "metadata": {
  "kernelspec": {
   "display_name": "Python 3 (ipykernel)",
   "language": "python",
   "name": "python3"
  },
  "language_info": {
   "codemirror_mode": {
    "name": "ipython",
    "version": 3
   },
   "file_extension": ".py",
   "mimetype": "text/x-python",
   "name": "python",
   "nbconvert_exporter": "python",
   "pygments_lexer": "ipython3",
   "version": "3.11.4"
  }
 },
 "nbformat": 4,
 "nbformat_minor": 5
}
