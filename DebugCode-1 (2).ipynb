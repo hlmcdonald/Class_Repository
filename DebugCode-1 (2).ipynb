{
 "cells": [
  {
   "cell_type": "code",
   "execution_count": 3,
   "id": "52bbedfe",
   "metadata": {},
   "outputs": [],
   "source": [
    "# Function to check if a number is prime\n",
    "def is_prime(number):\n",
    "    if number <= 1:\n",
    "        return False\n",
    "    for i in range(2, number):\n",
    "        if number % i == 0:\n",
    "            return False\n",
    "    return True"
   ]
  },
  {
   "cell_type": "code",
   "execution_count": 4,
   "id": "19cc225c",
   "metadata": {},
   "outputs": [
    {
     "name": "stdout",
     "output_type": "stream",
     "text": [
      "Prime Number Finder\n"
     ]
    }
   ],
   "source": [
    "# Main program\n",
    "print(\"Prime Number Finder\")"
   ]
  },
  {
   "cell_type": "code",
   "execution_count": 5,
   "id": "b58ecb2e",
   "metadata": {},
   "outputs": [
    {
     "name": "stdout",
     "output_type": "stream",
     "text": [
      "Enter the starting number: 11\n",
      "Enter the ending number: 20\n"
     ]
    }
   ],
   "source": [
    "# Get user input\n",
    "start = int(input(\"Enter the starting number: \"))\n",
    "end = int(input(\"Enter the ending number: \"))"
   ]
  },
  {
   "cell_type": "code",
   "execution_count": 6,
   "id": "e00dbe89",
   "metadata": {},
   "outputs": [],
   "source": [
    "# Swap start and end if start is greater\n",
    "if start > end:\n",
    "    temp = start\n",
    "    start = end\n",
    "    end = temp"
   ]
  },
  {
   "cell_type": "code",
   "execution_count": 7,
   "id": "09869dbd",
   "metadata": {},
   "outputs": [
    {
     "name": "stdout",
     "output_type": "stream",
     "text": [
      "Prime numbers between 11 and 20:\n",
      "11 13 17 19 "
     ]
    }
   ],
   "source": [
    "# Find and print prime numbers\n",
    "print(f\"Prime numbers between {start} and {end}:\")\n",
    "for num in range(start, end + 1):\n",
    "    if is_prime(num):\n",
    "        print(num, end=\" \")"
   ]
  },
  {
   "cell_type": "code",
   "execution_count": null,
   "id": "571bfb8e",
   "metadata": {},
   "outputs": [],
   "source": []
  }
 ],
 "metadata": {
  "kernelspec": {
   "display_name": "Python 3 (ipykernel)",
   "language": "python",
   "name": "python3"
  },
  "language_info": {
   "codemirror_mode": {
    "name": "ipython",
    "version": 3
   },
   "file_extension": ".py",
   "mimetype": "text/x-python",
   "name": "python",
   "nbconvert_exporter": "python",
   "pygments_lexer": "ipython3",
   "version": "3.11.4"
  }
 },
 "nbformat": 4,
 "nbformat_minor": 5
}
