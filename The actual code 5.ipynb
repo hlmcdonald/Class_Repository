{
 "cells": [
  {
   "cell_type": "code",
   "execution_count": 3,
   "id": "87c976dd",
   "metadata": {},
   "outputs": [
    {
     "name": "stdout",
     "output_type": "stream",
     "text": [
      "Enter the population size: 1000\n",
      "Enter the confidence level as 90, 95, or 99: 90\n",
      "Enter the desired margin of error as 0.05 0.10 etc.: 0.1\n",
      "the calculated sample size was approximately 1.64.\n",
      "enter your desired sample size: 1\n",
      "The following elements were selected by systematic random sampling: \n",
      "[1]\n"
     ]
    }
   ],
   "source": [
    "def calculate_sample_size(population_size, confidence_level, margin_of_error):\n",
    "    if confidence_level == 90:\n",
    "        z_score = 1.64\n",
    "    elif confidence_level == 95:\n",
    "        z_score = 1.96\n",
    "    elif confidence_level == 99:\n",
    "        z_score = 2.58\n",
    "    else: \n",
    "        print(\"Unsupported confidence level. Please input a value of 90, 95, or 99: \")\n",
    "    return z_score\n",
    "\n",
    "#specify the unknown proportion value\n",
    "    p = 0.5\n",
    "\n",
    "#Perform the calculation\n",
    "    sample_size = ((z_score * z_score * p * (1-p)) / (margin_of_error * margin_of_error))\n",
    "    return int(sample_size)\n",
    "        \n",
    "def systematic_sample(population, sample_size):\n",
    "    interval = len(population) / sample_size\n",
    "    interval = round(interval)\n",
    "    \n",
    "    selected_elements = []\n",
    "    \n",
    "    for i in range(0, len(population), interval):\n",
    "        selected_elements.append(population[i])\n",
    "        \n",
    "        return selected_elements \n",
    "#getting user input\n",
    "population_size = int(input(\"Enter the population size: \"))\n",
    "confidence_level = int(input(\"Enter the confidence level as 90, 95, or 99: \"))\n",
    "margin_of_error = float(input(\"Enter the desired margin of error as 0.05 0.10 etc.: \"))\n",
    "\n",
    "sample_size = (calculate_sample_size(population_size, confidence_level, margin_of_error))\n",
    "print(f\"the calculated sample size was approximately {sample_size}.\")\n",
    "\n",
    "user_sample_size = int(input(\"enter your desired sample size: \"))\n",
    "\n",
    "maximum_sample_size = calculate_sample_size(population_size, 99, 0.01)\n",
    "\n",
    "if user_sample_size > maximum_sample_size:\n",
    "    print(\"Sorry, the requested sample size is likely not feasible. Please enter another value: \")\n",
    "    \n",
    "else:\n",
    "    systematic_sample = systematic_sample(list(range(1, population_size + 1)), sample_size)\n",
    "    \n",
    "    print(\"The following elements were selected by systematic random sampling: \")\n",
    "    print(systematic_sample)\n"
   ]
  },
  {
   "cell_type": "code",
   "execution_count": null,
   "id": "76101c9f",
   "metadata": {},
   "outputs": [],
   "source": []
  }
 ],
 "metadata": {},
 "nbformat": 4,
 "nbformat_minor": 5
}
