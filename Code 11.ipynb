{
 "cells": [
  {
   "cell_type": "code",
   "execution_count": 1,
   "id": "05b5b203",
   "metadata": {},
   "outputs": [
    {
     "name": "stdout",
     "output_type": "stream",
     "text": [
      "C:\\Users\\hlmcd\\Desktop\\Python\n"
     ]
    }
   ],
   "source": [
    "import os\n",
    "import pandas as pd\n",
    "\n",
    "current_directory = os.getcwd()\n",
    "print(current_directory)"
   ]
  },
  {
   "cell_type": "code",
   "execution_count": 5,
   "id": "4d30ae8a",
   "metadata": {},
   "outputs": [],
   "source": [
    "new_directory_path = r'C:\\Users\\hlmcd\\Desktop'\n",
    "os.chdir(new_directory_path)"
   ]
  },
  {
   "cell_type": "code",
   "execution_count": 6,
   "id": "0a133782",
   "metadata": {},
   "outputs": [
    {
     "name": "stdout",
     "output_type": "stream",
     "text": [
      "C:\\Users\\hlmcd\\Desktop\n"
     ]
    }
   ],
   "source": [
    "updated_dir = os.getcwd()\n",
    "print(updated_dir)"
   ]
  },
  {
   "cell_type": "code",
   "execution_count": 13,
   "id": "cd34e4f6",
   "metadata": {},
   "outputs": [
    {
     "name": "stdout",
     "output_type": "stream",
     "text": [
      "Name, Age, Gender, BloodPressure, Temperature\n",
      "John Doe, 45, Male, 120/80, 36.8\n",
      "Jane Smith, 32, Female, 130/85, 37.2\n",
      "Alice Johnson, 50, Female, 140/90, 36.5\n",
      "Michael Brown, 55, Male, 135/82, 37.0\n",
      "Emily Wilson, 40, Female, 125/78, 36.9\n"
     ]
    }
   ],
   "source": [
    "file_path = r\"C:\\Users\\hlmcd\\Downloads\\Week13Assignment.txt\"\n",
    "\n",
    "try:\n",
    "    with open(file_path, 'r') as file:\n",
    "        content = file.read()\n",
    "        print(content)\n",
    "except FilenotFoundError:\n",
    "    print(f\"file '{file_path}' not found.\")\n",
    "except IOError:\n",
    "    print('An error occurred while reading this file')"
   ]
  },
  {
   "cell_type": "code",
   "execution_count": 15,
   "id": "bd068cd0",
   "metadata": {},
   "outputs": [],
   "source": [
    "df = pd.read_csv(file_path)"
   ]
  },
  {
   "cell_type": "code",
   "execution_count": 16,
   "id": "8c7c35a9",
   "metadata": {},
   "outputs": [
    {
     "name": "stdout",
     "output_type": "stream",
     "text": [
      "            Name   Age   Gender  BloodPressure   Temperature\n",
      "0       John Doe    45     Male         120/80          36.8\n",
      "1     Jane Smith    32   Female         130/85          37.2\n",
      "2  Alice Johnson    50   Female         140/90          36.5\n",
      "3  Michael Brown    55     Male         135/82          37.0\n",
      "4   Emily Wilson    40   Female         125/78          36.9\n"
     ]
    }
   ],
   "source": [
    "print(df)"
   ]
  },
  {
   "cell_type": "code",
   "execution_count": 17,
   "id": "969efc33",
   "metadata": {},
   "outputs": [
    {
     "name": "stdout",
     "output_type": "stream",
     "text": [
      "Index(['Name', ' Age', ' Gender', ' BloodPressure', ' Temperature'], dtype='object')\n"
     ]
    }
   ],
   "source": [
    "print(df.columns)"
   ]
  },
  {
   "cell_type": "code",
   "execution_count": 20,
   "id": "a3e5340f",
   "metadata": {},
   "outputs": [
    {
     "name": "stdout",
     "output_type": "stream",
     "text": [
      "44.4\n"
     ]
    }
   ],
   "source": [
    "#Average Age\n",
    "average_age = df[' Age'].mean()\n",
    "print(average_age)"
   ]
  },
  {
   "cell_type": "code",
   "execution_count": 23,
   "id": "b85006f9",
   "metadata": {},
   "outputs": [
    {
     "name": "stdout",
     "output_type": "stream",
     "text": [
      "the number of mle patients is 2 and the number of female patients is 3.\n"
     ]
    }
   ],
   "source": [
    "#Number of Male and Female PTs\n",
    "male = (df[' Gender'] == ' Male').sum()\n",
    "female = (df[' Gender'] == ' Female').sum()\n",
    "print(f'the number of mle patients is {male} and the number of female patients is {female}.')"
   ]
  },
  {
   "cell_type": "code",
   "execution_count": 24,
   "id": "5baa8756",
   "metadata": {},
   "outputs": [
    {
     "name": "stdout",
     "output_type": "stream",
     "text": [
      "The highest blood pressure is  140/90.\n"
     ]
    }
   ],
   "source": [
    "#Maximum BP\n",
    "max_bp = max(df[' BloodPressure'])\n",
    "print(f\"The highest blood pressure is {max_bp}.\")"
   ]
  },
  {
   "cell_type": "code",
   "execution_count": 25,
   "id": "f32c7724",
   "metadata": {},
   "outputs": [
    {
     "name": "stdout",
     "output_type": "stream",
     "text": [
      "Thelowest blood pressure is  120/80.\n"
     ]
    }
   ],
   "source": [
    "#Minimum BP\n",
    "low_bp = min(df[' BloodPressure'])\n",
    "print(f'Thelowest blood pressure is {low_bp}.')"
   ]
  },
  {
   "cell_type": "code",
   "execution_count": 26,
   "id": "13b50367",
   "metadata": {},
   "outputs": [
    {
     "name": "stdout",
     "output_type": "stream",
     "text": [
      "36.88\n"
     ]
    }
   ],
   "source": [
    "#Average Body Temp\n",
    "average_temp = df[' Temperature'].mean()\n",
    "print(average_temp)"
   ]
  },
  {
   "cell_type": "code",
   "execution_count": null,
   "id": "4fe6a52f",
   "metadata": {},
   "outputs": [],
   "source": []
  }
 ],
 "metadata": {
  "kernelspec": {
   "display_name": "Python 3 (ipykernel)",
   "language": "python",
   "name": "python3"
  },
  "language_info": {
   "codemirror_mode": {
    "name": "ipython",
    "version": 3
   },
   "file_extension": ".py",
   "mimetype": "text/x-python",
   "name": "python",
   "nbconvert_exporter": "python",
   "pygments_lexer": "ipython3",
   "version": "3.11.5"
  }
 },
 "nbformat": 4,
 "nbformat_minor": 5
}
